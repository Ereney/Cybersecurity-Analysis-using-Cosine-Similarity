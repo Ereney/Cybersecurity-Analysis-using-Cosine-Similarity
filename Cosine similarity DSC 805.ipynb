{
 "cells": [
  {
   "cell_type": "code",
   "execution_count": 10,
   "id": "76b0de0c-e550-4481-97d7-73a7b297ad24",
   "metadata": {},
   "outputs": [],
   "source": [
    "import numpy as np"
   ]
  },
  {
   "cell_type": "code",
   "execution_count": 11,
   "id": "2a20ef25-ebf0-477a-85bc-25707f10382a",
   "metadata": {},
   "outputs": [],
   "source": [
    "# --- 1. Define Baseline Patterns ---\n",
    "# [data transfer, login_attempts, privilege_requests, network_scans, failed_authentications]\n",
    "n = np.array([0.8, 3, 1, 0, 0])   # Normal User \n",
    "a = np.array([2.1, 8, 5, 2, 1])   # Admin User \n",
    "s1 = np.array([15.2, 25, 12, 8, 15]) # Suspicious Activity 1 \n",
    "s2 = np.array([1.2, 45, 3, 15, 32]) # Suspicious Activity 2 \n",
    "c = np.array([3.4, 12, 7, 3, 4])   # Current Session "
   ]
  },
  {
   "cell_type": "code",
   "execution_count": 12,
   "id": "292a43da-f645-4c15-b6cc-76d665290340",
   "metadata": {},
   "outputs": [],
   "source": [
    "# Dictionary to hold patterns for easier iteration\n",
    "patterns = {\n",
    "    \"Normal User\": n,\n",
    "    \"Admin User\": a,\n",
    "    \"Suspicious 1\": s1,\n",
    "    \"Suspicious 2\": s2\n",
    "}"
   ]
  },
  {
   "cell_type": "code",
   "execution_count": 13,
   "id": "5e57637f-94d3-4512-88c8-08745f32a37d",
   "metadata": {},
   "outputs": [],
   "source": [
    "# --- 3. Define Reusable Helper Functions ---\n",
    "\n",
    "def cosine_similarity(v1, v2):\n",
    "    \"\"\"Calculates the cosine similarity between two non-zero vectors.\"\"\"\n",
    "    dot_product = np.dot(v1, v2)\n",
    "    norm_v1 = np.linalg.norm(v1)\n",
    "    norm_v2 = np.linalg.norm(v2)\n",
    "    \n",
    "    # Avoid division by zero if a vector is all zeros\n",
    "    if norm_v1 == 0 or norm_v2 == 0:\n",
    "        return 0.0\n",
    "        \n",
    "    return dot_product / (norm_v1 * norm_v2)"
   ]
  },
  {
   "cell_type": "code",
   "execution_count": 14,
   "id": "347a1ad2-5a43-47b7-ad65-f2288c330b28",
   "metadata": {},
   "outputs": [],
   "source": [
    "def vector_projection(v_to_project, v_onto):\n",
    "    \"\"\"Calculates the projection of v_to_project onto v_onto.\"\"\"\n",
    "    # Projection formula: ( (v1 . v2) / ||v2||^2 ) * v2\n",
    "    dot_product = np.dot(v_to_project, v_onto)\n",
    "    norm_sq = np.linalg.norm(v_onto)**2\n",
    "    \n",
    "    if norm_sq == 0:\n",
    "        return np.zeros(v_onto.shape)\n",
    "        \n",
    "    return (dot_product / norm_sq) * v_onto"
   ]
  },
  {
   "cell_type": "code",
   "execution_count": 15,
   "id": "4210a005-1e5d-47ea-b160-d76643324dea",
   "metadata": {},
   "outputs": [],
   "source": [
    "def angle_between(v1, v2):\n",
    "    \"\"\"Calculates the angle in degrees between two vectors.\"\"\"\n",
    "    sim = cosine_similarity(v1, v2)\n",
    "    # Clip to handle potential floating-point inaccuracies (e.g., 1.000001)\n",
    "    sim = np.clip(sim, -1.0, 1.0)\n",
    "    return np.degrees(np.arccos(sim))"
   ]
  },
  {
   "cell_type": "code",
   "execution_count": 16,
   "id": "e69cd679-80e8-4314-bf2b-e6819102de97",
   "metadata": {},
   "outputs": [
    {
     "name": "stdout",
     "output_type": "stream",
     "text": [
      "--- Setup Complete ---\n",
      "Current Session (c): [ 3.4 12.   7.   3.   4. ]\n",
      "\n"
     ]
    }
   ],
   "source": [
    "print(\"--- Setup Complete ---\")\n",
    "print(f\"Current Session (c): {c}\\n\")"
   ]
  },
  {
   "cell_type": "code",
   "execution_count": 17,
   "id": "36593ff0-4d21-40d8-a4bb-69d50c66a6f1",
   "metadata": {},
   "outputs": [
    {
     "name": "stdout",
     "output_type": "stream",
     "text": [
      "--- 1. Threat Similarity Detection ---\n",
      "Cosine Similarity with Normal User: 0.9251\n",
      "Cosine Similarity with Admin User: 0.9856\n",
      "Cosine Similarity with Suspicious 1: 0.9553\n",
      "Cosine Similarity with Suspicious 2: 0.8500\n",
      "\n",
      "Most Resembled Pattern: Admin User (Similarity: 0.9856)\n",
      "Classification (Threshold > 0.8): Admin User\n",
      "------------------------------\n",
      "\n"
     ]
    }
   ],
   "source": [
    "def threat_similarity_analysis(current_session, all_patterns):\n",
    "    print(\"--- 1. Threat Similarity Detection ---\")\n",
    "    similarity_results = {}\n",
    "    \n",
    "    # Calculate similarity for each pattern \n",
    "    for name, pattern_vec in all_patterns.items():\n",
    "        sim = cosine_similarity(current_session, pattern_vec)\n",
    "        similarity_results[name] = sim\n",
    "        print(f\"Cosine Similarity with {name}: {sim:.4f}\")\n",
    "\n",
    "    # Determine the most similar pattern [cite: 25]\n",
    "    most_similar_name = max(similarity_results, key=similarity_results.get)\n",
    "    max_similarity = similarity_results[most_similar_name]\n",
    "    print(f\"\\nMost Resembled Pattern: {most_similar_name} (Similarity: {max_similarity:.4f})\")\n",
    "\n",
    "    # Implement threshold-based classification \n",
    "    threshold = 0.8\n",
    "    classification = \"Unclassified\"\n",
    "    if max_similarity > threshold:\n",
    "        classification = most_similar_name\n",
    "    \n",
    "    print(f\"Classification (Threshold > {threshold}): {classification}\")\n",
    "    print(\"-\" * 30 + \"\\n\")\n",
    "    return similarity_results\n",
    "\n",
    "# Run the analysis\n",
    "similarity_scores = threat_similarity_analysis(c, patterns)"
   ]
  },
  {
   "cell_type": "code",
   "execution_count": null,
   "id": "9c271d11-0f63-4c9e-8132-06ca580ab2ee",
   "metadata": {},
   "outputs": [],
   "source": []
  }
 ],
 "metadata": {
  "kernelspec": {
   "display_name": "Python 3 (ipykernel)",
   "language": "python",
   "name": "python3"
  },
  "language_info": {
   "codemirror_mode": {
    "name": "ipython",
    "version": 3
   },
   "file_extension": ".py",
   "mimetype": "text/x-python",
   "name": "python",
   "nbconvert_exporter": "python",
   "pygments_lexer": "ipython3",
   "version": "3.13.5"
  }
 },
 "nbformat": 4,
 "nbformat_minor": 5
}
